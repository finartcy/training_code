{
 "cells": [
  {
   "cell_type": "code",
   "execution_count": 1,
   "metadata": {},
   "outputs": [],
   "source": [
    "import pandas as pd\n",
    "import numpy as np\n"
   ]
  },
  {
   "cell_type": "markdown",
   "metadata": {},
   "source": [
    "## Read in May 2023 OEWS Data\n",
    "\n",
    "BLS OEWS publishes employment estimates for industies and SOC Codes on https://www.bls.gov/oes/tables.htm. Use the 'all data' for employment estimates for the U.S. economy."
   ]
  },
  {
   "cell_type": "code",
   "execution_count": 2,
   "metadata": {},
   "outputs": [],
   "source": [
    "filepath = r'C:\\Users\\maurice\\OneDrive\\Government Data'\n",
    "df = pd.read_excel(filepath + '\\\\all_data_M_2023.xlsx')"
   ]
  },
  {
   "cell_type": "markdown",
   "metadata": {},
   "source": [
    "This analysis is only interested in the most detailed SOC Codes in the U.S. economy."
   ]
  },
  {
   "cell_type": "code",
   "execution_count": 3,
   "metadata": {},
   "outputs": [],
   "source": [
    "filtered = df[(df['NAICS']!='000000')&(df['NAICS']!='000001')&(df['O_GROUP']=='detailed')]"
   ]
  },
  {
   "cell_type": "code",
   "execution_count": 4,
   "metadata": {},
   "outputs": [],
   "source": [
    "keep_columns = ['NAICS','OCC_CODE','TOT_EMP']\n",
    "unique_soc_naics = filtered[['NAICS','OCC_CODE']].drop_duplicates()\n",
    "full_list = pd.merge(filtered, unique_soc_naics, on=['NAICS','OCC_CODE'], how='inner')[keep_columns]"
   ]
  },
  {
   "cell_type": "markdown",
   "metadata": {},
   "source": [
    "## Non-Standard NAICS\n",
    "\n",
    "Non-standard NAICS codes. The following are non-standard NAICS codes."
   ]
  },
  {
   "cell_type": "code",
   "execution_count": 5,
   "metadata": {},
   "outputs": [],
   "source": [
    "key = ['NAICS','OCC_CODE']\n",
    "non_standard = full_list[full_list['NAICS'].apply(lambda x: str(x).isalnum() and any(c.isalpha() for c in str(x)) and any(c.isdigit() for c in str(x)))]\n",
    "standard_list = full_list[~full_list[key].apply(tuple, axis=1).isin(non_standard[key].apply(tuple, axis=1))]"
   ]
  },
  {
   "cell_type": "markdown",
   "metadata": {},
   "source": [
    "## Expand NAICS Code (if hyphenated)\n",
    "\n",
    "If there is a hyphen in the NAICS code, we want to create a new row so that it is 31, 32, 33."
   ]
  },
  {
   "cell_type": "code",
   "execution_count": 6,
   "metadata": {},
   "outputs": [],
   "source": [
    "def expand_naics(df):\n",
    "   # Create copy of dataframe\n",
    "   expanded_df = df.copy()\n",
    "   \n",
    "   # Find rows with hyphens\n",
    "   mask = expanded_df['NAICS'].str.contains('-', na=False)\n",
    "   hyphen_rows = expanded_df[mask].copy()\n",
    "   \n",
    "   # Drop original hyphen rows\n",
    "   expanded_df = expanded_df[~mask]\n",
    "   \n",
    "   # Expand hyphenated rows\n",
    "   new_rows = []\n",
    "   for idx, row in hyphen_rows.iterrows():\n",
    "       start, end = map(int, row['NAICS'].split('-'))\n",
    "       for naics in range(start, end + 1):\n",
    "           new_row = row.copy()\n",
    "           new_row['NAICS'] = str(naics)\n",
    "           new_rows.append(new_row)\n",
    "   \n",
    "   # Combine original and expanded rows\n",
    "   expanded_df = pd.concat([expanded_df, pd.DataFrame(new_rows)], ignore_index=True)\n",
    "   \n",
    "   return expanded_df\n",
    "\n",
    "standard_list = expand_naics(standard_list)"
   ]
  },
  {
   "cell_type": "code",
   "execution_count": 7,
   "metadata": {},
   "outputs": [
    {
     "data": {
      "text/html": [
       "<div>\n",
       "<style scoped>\n",
       "    .dataframe tbody tr th:only-of-type {\n",
       "        vertical-align: middle;\n",
       "    }\n",
       "\n",
       "    .dataframe tbody tr th {\n",
       "        vertical-align: top;\n",
       "    }\n",
       "\n",
       "    .dataframe thead th {\n",
       "        text-align: right;\n",
       "    }\n",
       "</style>\n",
       "<table border=\"1\" class=\"dataframe\">\n",
       "  <thead>\n",
       "    <tr style=\"text-align: right;\">\n",
       "      <th></th>\n",
       "      <th>NAICS</th>\n",
       "      <th>OCC_CODE</th>\n",
       "      <th>TOT_EMP</th>\n",
       "    </tr>\n",
       "  </thead>\n",
       "  <tbody>\n",
       "    <tr>\n",
       "      <th>6545</th>\n",
       "      <td>99</td>\n",
       "      <td>11-1011</td>\n",
       "      <td>25550</td>\n",
       "    </tr>\n",
       "    <tr>\n",
       "      <th>6546</th>\n",
       "      <td>99</td>\n",
       "      <td>11-1021</td>\n",
       "      <td>135720</td>\n",
       "    </tr>\n",
       "    <tr>\n",
       "      <th>6547</th>\n",
       "      <td>99</td>\n",
       "      <td>11-1031</td>\n",
       "      <td>32460</td>\n",
       "    </tr>\n",
       "    <tr>\n",
       "      <th>6548</th>\n",
       "      <td>99</td>\n",
       "      <td>11-2011</td>\n",
       "      <td>100</td>\n",
       "    </tr>\n",
       "    <tr>\n",
       "      <th>6549</th>\n",
       "      <td>99</td>\n",
       "      <td>11-2021</td>\n",
       "      <td>1820</td>\n",
       "    </tr>\n",
       "    <tr>\n",
       "      <th>...</th>\n",
       "      <td>...</td>\n",
       "      <td>...</td>\n",
       "      <td>...</td>\n",
       "    </tr>\n",
       "    <tr>\n",
       "      <th>82149</th>\n",
       "      <td>5320A1</td>\n",
       "      <td>53-7061</td>\n",
       "      <td>1710</td>\n",
       "    </tr>\n",
       "    <tr>\n",
       "      <th>82150</th>\n",
       "      <td>5320A1</td>\n",
       "      <td>53-7062</td>\n",
       "      <td>28440</td>\n",
       "    </tr>\n",
       "    <tr>\n",
       "      <th>82151</th>\n",
       "      <td>5320A1</td>\n",
       "      <td>53-7065</td>\n",
       "      <td>3570</td>\n",
       "    </tr>\n",
       "    <tr>\n",
       "      <th>82152</th>\n",
       "      <td>5320A1</td>\n",
       "      <td>53-7072</td>\n",
       "      <td>560</td>\n",
       "    </tr>\n",
       "    <tr>\n",
       "      <th>82153</th>\n",
       "      <td>5320A1</td>\n",
       "      <td>53-7199</td>\n",
       "      <td>90</td>\n",
       "    </tr>\n",
       "  </tbody>\n",
       "</table>\n",
       "<p>7825 rows × 3 columns</p>\n",
       "</div>"
      ],
      "text/plain": [
       "        NAICS OCC_CODE TOT_EMP\n",
       "6545       99  11-1011   25550\n",
       "6546       99  11-1021  135720\n",
       "6547       99  11-1031   32460\n",
       "6548       99  11-2011     100\n",
       "6549       99  11-2021    1820\n",
       "...       ...      ...     ...\n",
       "82149  5320A1  53-7061    1710\n",
       "82150  5320A1  53-7062   28440\n",
       "82151  5320A1  53-7065    3570\n",
       "82152  5320A1  53-7072     560\n",
       "82153  5320A1  53-7199      90\n",
       "\n",
       "[7825 rows x 3 columns]"
      ]
     },
     "execution_count": 7,
     "metadata": {},
     "output_type": "execute_result"
    }
   ],
   "source": [
    "government_naics = ['999000', '999001', '999100', '999101', '999200','999201', '999300', '999301','99']\n",
    "government = standard_list[standard_list['NAICS'].isin(government_naics)]\n",
    "standard_list = standard_list[~standard_list['NAICS'].isin(government_naics)]\n",
    "non_standard = pd.concat([government, non_standard])\n",
    "non_standard"
   ]
  }
 ],
 "metadata": {
  "kernelspec": {
   "display_name": "Python 3",
   "language": "python",
   "name": "python3"
  },
  "language_info": {
   "codemirror_mode": {
    "name": "ipython",
    "version": 3
   },
   "file_extension": ".py",
   "mimetype": "text/x-python",
   "name": "python",
   "nbconvert_exporter": "python",
   "pygments_lexer": "ipython3",
   "version": "3.11.9"
  }
 },
 "nbformat": 4,
 "nbformat_minor": 2
}
