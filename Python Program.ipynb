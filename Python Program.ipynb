{
 "cells": [
  {
   "cell_type": "code",
   "execution_count": 2,
   "metadata": {},
   "outputs": [
    {
     "name": "stdout",
     "output_type": "stream",
     "text": [
      "[('Alice', 'Bob'), ('Charlie', 'David')]\n"
     ]
    }
   ],
   "source": [
    "import random\n",
    "\n",
    "def create_unique_pairs_monthly(names):\n",
    "  \"\"\"\n",
    "  Randomly pairs people from a list monthly, ensuring no two people are \n",
    "  paired more than once until all possible unique pairs are formed.\n",
    "\n",
    "  Args:\n",
    "    names: A list of names.\n",
    "\n",
    "  Returns:\n",
    "    A list of unique pairs for the month.\n",
    "  \"\"\"\n",
    "  if len(names) < 2:\n",
    "    return []  # Not enough names to form a pair\n",
    "\n",
    "  try:\n",
    "    # Load previously used pairs from a file\n",
    "    with open(\"used_pairs.txt\", \"r\") as f:\n",
    "      used_pairs = set(tuple(pair.strip().split(\",\")) for pair in f)\n",
    "  except FileNotFoundError:\n",
    "    used_pairs = set()\n",
    "\n",
    "  random.shuffle(names)\n",
    "  pairs = []\n",
    "\n",
    "  while len(names) > 1:\n",
    "    person1 = names.pop()\n",
    "    for person2 in names:\n",
    "      pair = tuple(sorted((person1, person2)))\n",
    "      if pair not in used_pairs:\n",
    "        pairs.append(pair)\n",
    "        used_pairs.add(pair)\n",
    "        names.remove(person2)\n",
    "        break\n",
    "    else:\n",
    "      # If no valid partner is found, put person1 back and reshuffle\n",
    "      names.append(person1)\n",
    "      random.shuffle(names)\n",
    "\n",
    "  # Save used pairs back to the file\n",
    "  with open(\"used_pairs.txt\", \"w\") as f:\n",
    "    for pair in used_pairs:\n",
    "      f.write(\",\".join(pair) + \"\\n\")\n",
    "\n",
    "  return pairs\n",
    "\n",
    "# Example usage:\n",
    "names = [\"Alice\", \"Bob\", \"Charlie\", \"David\", \"Eve\"]\n",
    "monthly_pairs = create_unique_pairs_monthly(names)\n",
    "print(monthly_pairs)"
   ]
  }
 ],
 "metadata": {
  "kernelspec": {
   "display_name": "Python 3",
   "language": "python",
   "name": "python3"
  },
  "language_info": {
   "codemirror_mode": {
    "name": "ipython",
    "version": 3
   },
   "file_extension": ".py",
   "mimetype": "text/x-python",
   "name": "python",
   "nbconvert_exporter": "python",
   "pygments_lexer": "ipython3",
   "version": "3.11.9"
  }
 },
 "nbformat": 4,
 "nbformat_minor": 2
}
